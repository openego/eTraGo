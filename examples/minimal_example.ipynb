{
 "cells": [
  {
   "cell_type": "markdown",
   "metadata": {},
   "source": [
    "# eTraGo: Minimal Example (Focus Parameters & Run)\n",
    "\n",
    "Link to Documentation: __[eTraGo Documentation](http://etrago.readthedocs.io/)__"
   ]
  },
  {
   "cell_type": "markdown",
   "metadata": {
    "tags": []
   },
   "source": [
    "## Import required general and eTraGo specific python packages"
   ]
  },
  {
   "cell_type": "code",
   "execution_count": 5,
   "metadata": {
    "tags": []
   },
   "outputs": [
    {
     "ename": "ModuleNotFoundError",
     "evalue": "No module named 'etrago'",
     "output_type": "error",
     "traceback": [
      "\u001b[0;31m---------------------------------------------------------------------------\u001b[0m",
      "\u001b[0;31mModuleNotFoundError\u001b[0m                       Traceback (most recent call last)",
      "\u001b[0;32m/tmp/ipykernel_55656/1439530872.py\u001b[0m in \u001b[0;36m<module>\u001b[0;34m\u001b[0m\n\u001b[1;32m      4\u001b[0m \u001b[0;34m\u001b[0m\u001b[0m\n\u001b[1;32m      5\u001b[0m \u001b[0;31m# import main function to execute etrago\u001b[0m\u001b[0;34m\u001b[0m\u001b[0;34m\u001b[0m\u001b[0m\n\u001b[0;32m----> 6\u001b[0;31m \u001b[0;32mfrom\u001b[0m \u001b[0metrago\u001b[0m\u001b[0;34m.\u001b[0m\u001b[0mappl\u001b[0m \u001b[0;32mimport\u001b[0m \u001b[0mrun_etrago\u001b[0m\u001b[0;34m\u001b[0m\u001b[0;34m\u001b[0m\u001b[0m\n\u001b[0m",
      "\u001b[0;31mModuleNotFoundError\u001b[0m: No module named 'etrago'"
     ]
    }
   ],
   "source": [
    "#%%capture\n",
    "# enable jupyter interactive plotting\n",
    "#%matplotlib widget\n",
    "\n",
    "# import main function to execute etrago\n",
    "from etrago.appl import run_etrago"
   ]
  },
  {
   "cell_type": "markdown",
   "metadata": {},
   "source": [
    "## Define parameters to run eTraGo\n",
    "\n",
    "-> aufteilen in Abschnitte mit einzelnen kurzen Erklärungen zu Einstellungen\n",
    "-> Mini-Netz mit zwei Snapshots und 30 AC-Knoten"
   ]
  },
  {
   "cell_type": "code",
   "execution_count": 2,
   "metadata": {
    "tags": []
   },
   "outputs": [],
   "source": [
    "args = {\n",
    "    # Setup:\n",
    "    \"db\": \"egon-data\",  # database session\n",
    "    \"scn_name\": \"eGon2035\",  # scenario: eGon2035, eGon100RE, eGon2035_lowflex, eGon100RE_lowflex\n",
    "    \"start_snapshot\": 1,\n",
    "    \"end_snapshot\": 15,\n",
    "    \"gridversion\": None,  # Currently not needed\n",
    "    \"branch_capacity_factor\": {\"HV\": 0.5, \"eHV\": 0.7},  # p.u. branch rating\n",
    "    \"foreign_lines\": {\n",
    "        \"carrier\": \"AC\",  # 'DC' for modeling foreign lines as links\n",
    "        \"capacity\": \"osmTGmod\",  # 'osmTGmod', 'tyndp2020', 'ntc_acer' or 'thermal_acer'\n",
    "    },\n",
    "    \"scn_extension\": None,  # None or array of extension scenarios (currently not provided, but needed once new lines from NEP are set up)\n",
    "    \"scn_decommissioning\": None,  # None or decommissioning scenario (currently not provided)\n",
    "    \n",
    "    # Optimisation and powerflow:\n",
    "    \"method\": {  # Choose method and settings for optimization\n",
    "        \"type\": \"lopf\",  # type of optimization, currently only 'lopf'\n",
    "        \"n_iter\": 1,  # abort criterion of iterative optimization, 'n_iter' or 'threshold'\n",
    "        \"pyomo\": True,  # set if pyomo is used for model building\n",
    "    },\n",
    "    \"solver\": \"gurobi\",  # glpk, cplex or gurobi\n",
    "    \"solver_options\": {\n",
    "        \"BarConvTol\": 1.0e-5,\n",
    "        \"FeasibilityTol\": 1.0e-5,\n",
    "        \"method\": 2,\n",
    "        \"crossover\": 0,\n",
    "        \"logFile\": \"solver_etrago.log\",\n",
    "        \"threads\": 4,\n",
    "    },\n",
    "    \"model_formulation\": \"kirchhoff\",  # formulation of the LPF problem (all are equivalent)\n",
    "    \"extendable\": {\n",
    "        \"extendable_components\": [\n",
    "            \"as_in_db\"\n",
    "        ],  # Array of components to optimize\n",
    "        \"upper_bounds_grid\": {  # Set upper bounds for grid expansion\n",
    "            # lines in Germany\n",
    "            \"grid_max_D\": None,  # relative to existing capacity\n",
    "            \"grid_max_abs_D\": {  # absolute capacity per voltage level\n",
    "                \"380\": {\"i\": 1020, \"wires\": 4, \"circuits\": 4},\n",
    "                \"220\": {\"i\": 1020, \"wires\": 4, \"circuits\": 4},\n",
    "                \"110\": {\"i\": 1020, \"wires\": 4, \"circuits\": 2},\n",
    "                \"dc\": 0,\n",
    "            },\n",
    "            # border crossing lines\n",
    "            \"grid_max_foreign\": 4,  # relative to existing capacity\n",
    "            \"grid_max_abs_foreign\": None,  # absolute capacity per voltage level\n",
    "        },\n",
    "    },\n",
    "    \"generator_noise\": 789456,  # a small random noise to the marginal costs of each generator in order to prevent an optima plateau\n",
    "    \"extra_functionality\": {},  # Choose function name (e.g. \"min_renewable_share\" or \"cross_border_flow\") or {}    \n",
    "    \"load_shedding\": False,  # helpful when debugging - a very expensive generator is added to each bus \n",
    "    \"lpfile\": False,  # save pyomo's lp file: False or /path/to/lpfile.lp\n",
    "    \"csv_export\": \"results\",  # save results as csv: False or /path/tofolder\n",
    "    \"pf_post_lopf\": {\n",
    "        \"active\": True,  # choose if a pf should be performed after the lopf\n",
    "        \"add_foreign_lopf\": True,  # keep results of lopf for foreign DC-links\n",
    "        \"q_allocation\": \"p_nom\",  # allocate reactive power via 'p_nom' or 'p'\n",
    "    },\n",
    "    \n",
    "    # Spatial complexity reduction and disaggregation:\n",
    "    \"network_clustering_ehv\": False,  # clustering of HV buses to EHV buses\n",
    "    \"network_clustering\": {\n",
    "        \"active\": True,  # choose if clustering is activated\n",
    "        \"method\": \"kmedoids-dijkstra\",  # choose clustering method: kmeans or kmedoids-dijkstra\n",
    "        \"n_clusters_AC\": 60,  # total number of resulting AC nodes (DE+foreign)\n",
    "        \"cluster_foreign_AC\": False,  # take foreign AC buses into account, True or False\n",
    "        \"method_gas\": \"kmedoids-dijkstra\",  # choose clustering method: kmeans or kmedoids-dijkstra\n",
    "        \"n_clusters_gas\": 17,  # total number of resulting CH4 nodes (DE+foreign)\n",
    "        \"cluster_foreign_gas\": False,  # take foreign CH4 buses into account, True or False\n",
    "        \"k_elec_busmap\": False,  # False or path/to/busmap.csv\n",
    "        \"k_gas_busmap\": False,  # False or path/to/ch4_busmap.csv\n",
    "        \"bus_weight_tocsv\": None,  # None or path/to/bus_weight.csv\n",
    "        \"bus_weight_fromcsv\": None,  # None or path/to/bus_weight.csv\n",
    "        \"gas_weight_tocsv\": None,  # None or path/to/gas_bus_weight.csv\n",
    "        \"gas_weight_fromcsv\": None,  # None or path/to/gas_bus_weight.csv\n",
    "        \"line_length_factor\": 1,  # Factor to multiply distance between new buses for new line lengths\n",
    "        \"remove_stubs\": False,  # remove stubs bevore kmeans clustering\n",
    "        \"use_reduced_coordinates\": False,  # If True, do not average cluster coordinates\n",
    "        \"random_state\": 42,  # random state for replicability of clustering results\n",
    "        \"n_init\": 10,  # affects clustering algorithm, only change when neccesary\n",
    "        \"max_iter\": 100,  # affects clustering algorithm, only change when neccesary\n",
    "        \"tol\": 1e-6,  # affects clustering algorithm, only change when neccesary\n",
    "        \"CPU_cores\": 4,  # number of cores used during clustering, \"max\" for all cores available.\n",
    "    },\n",
    "    \"sector_coupled_clustering\": {\n",
    "        \"active\": True,  # choose if clustering is activated\n",
    "        \"carrier_data\": {  # select carriers affected by sector coupling\n",
    "            \"central_heat\": {\n",
    "                \"base\": [\"CH4\", \"AC\"],\n",
    "                \"strategy\": \"simultaneous\",  # select strategy to cluster other sectors\n",
    "            },\n",
    "        },\n",
    "    },\n",
    "    \"disaggregation\": None,  # None or 'uniform'\n",
    "    \n",
    "    # Temporal complexity reduction and disaggregation:\n",
    "    \"snapshot_clustering\": {\n",
    "        \"active\": False,  # choose if clustering is activated\n",
    "        \"method\": \"segmentation\",  # 'typical_periods' or 'segmentation'\n",
    "        \"extreme_periods\": None,  # consideration of extreme timesteps; e.g. 'append'\n",
    "        \"how\": \"daily\",  # type of period - only relevant for 'typical_periods'\n",
    "        \"storage_constraints\": \"soc_constraints\",  # additional constraints for storages  - only relevant for 'typical_periods'\n",
    "        \"n_clusters\": 5,  #  number of periods - only relevant for 'typical_periods'\n",
    "        \"n_segments\": 5,  # number of segments - only relevant for segmentation\n",
    "    },\n",
    "    \"skip_snapshots\": 5,  # False or number of snapshots to skip\n",
    "    \"temporal_disaggregation\": {\n",
    "        \"active\": False,  # choose if temporally full complex dispatch optimization should be conducted\n",
    "        \"no_slices\": 8,  # number of subproblems optimization is divided into\n",
    "    },\n",
    "\n",
    "    # Other\n",
    "    \"comments\": None,\n",
    "}"
   ]
  },
  {
   "cell_type": "code",
   "execution_count": 3,
   "metadata": {},
   "outputs": [
    {
     "ename": "NameError",
     "evalue": "name 'run_etrago' is not defined",
     "output_type": "error",
     "traceback": [
      "\u001b[0;31m---------------------------------------------------------------------------\u001b[0m",
      "\u001b[0;31mNameError\u001b[0m                                 Traceback (most recent call last)",
      "\u001b[0;32m/tmp/ipykernel_55656/4212827421.py\u001b[0m in \u001b[0;36m<module>\u001b[0;34m\u001b[0m\n\u001b[0;32m----> 1\u001b[0;31m \u001b[0mrun_etrago\u001b[0m\u001b[0;34m(\u001b[0m\u001b[0margs\u001b[0m\u001b[0;34m=\u001b[0m\u001b[0margs\u001b[0m\u001b[0;34m,\u001b[0m \u001b[0mjson_path\u001b[0m\u001b[0;34m=\u001b[0m\u001b[0;32mNone\u001b[0m\u001b[0;34m)\u001b[0m\u001b[0;34m\u001b[0m\u001b[0;34m\u001b[0m\u001b[0m\n\u001b[0m\u001b[1;32m      2\u001b[0m \u001b[0;34m\u001b[0m\u001b[0m\n\u001b[1;32m      3\u001b[0m \u001b[0;31m# -> Funktionen kurz aufzeigen / erklären\u001b[0m\u001b[0;34m\u001b[0m\u001b[0;34m\u001b[0m\u001b[0m\n\u001b[1;32m      4\u001b[0m \u001b[0;34m\u001b[0m\u001b[0m\n\u001b[1;32m      5\u001b[0m \u001b[0;31m# ein oder zwei Ergebnisse zeigen\u001b[0m\u001b[0;34m\u001b[0m\u001b[0;34m\u001b[0m\u001b[0m\n",
      "\u001b[0;31mNameError\u001b[0m: name 'run_etrago' is not defined"
     ]
    }
   ],
   "source": [
    "run_etrago(args=args, json_path=None)\n",
    "\n",
    "# -> Funktionen kurz aufzeigen / erklären\n",
    "\n",
    "# ein oder zwei Ergebnisse zeigen"
   ]
  },
  {
   "cell_type": "code",
   "execution_count": 4,
   "metadata": {
    "tags": []
   },
   "outputs": [
    {
     "ename": "NameError",
     "evalue": "name 'etrago' is not defined",
     "output_type": "error",
     "traceback": [
      "\u001b[0;31m---------------------------------------------------------------------------\u001b[0m",
      "\u001b[0;31mNameError\u001b[0m                                 Traceback (most recent call last)",
      "\u001b[0;32m/tmp/ipykernel_55656/1379625458.py\u001b[0m in \u001b[0;36m<module>\u001b[0;34m\u001b[0m\n\u001b[0;32m----> 1\u001b[0;31m \u001b[0metrago\u001b[0m\u001b[0;34m.\u001b[0m\u001b[0mplot_grid\u001b[0m\u001b[0;34m(\u001b[0m\u001b[0mline_colors\u001b[0m\u001b[0;34m=\u001b[0m\u001b[0;34m\"expansion_abs\"\u001b[0m\u001b[0;34m,\u001b[0m \u001b[0mbus_colors\u001b[0m\u001b[0;34m=\u001b[0m\u001b[0;34m\"storage_expansion\"\u001b[0m\u001b[0;34m,\u001b[0m \u001b[0mbus_sizes\u001b[0m\u001b[0;34m=\u001b[0m \u001b[0;36m0.000001\u001b[0m\u001b[0;34m)\u001b[0m\u001b[0;34m\u001b[0m\u001b[0;34m\u001b[0m\u001b[0m\n\u001b[0m",
      "\u001b[0;31mNameError\u001b[0m: name 'etrago' is not defined"
     ]
    }
   ],
   "source": [
    "etrago.plot_grid(line_colors=\"expansion_abs\", bus_colors=\"storage_expansion\", bus_sizes= 0.000001)"
   ]
  },
  {
   "cell_type": "code",
   "execution_count": null,
   "metadata": {
    "tags": []
   },
   "outputs": [],
   "source": [
    "etrago.calc_results()\n",
    "etrago.results"
   ]
  }
 ],
 "metadata": {
  "kernelspec": {
   "display_name": "Python 3 (ipykernel)",
   "language": "python",
   "name": "python3"
  },
  "language_info": {
   "codemirror_mode": {
    "name": "ipython",
    "version": 3
   },
   "file_extension": ".py",
   "mimetype": "text/x-python",
   "name": "python",
   "nbconvert_exporter": "python",
   "pygments_lexer": "ipython3",
   "version": "3.10.12"
  }
 },
 "nbformat": 4,
 "nbformat_minor": 4
}
