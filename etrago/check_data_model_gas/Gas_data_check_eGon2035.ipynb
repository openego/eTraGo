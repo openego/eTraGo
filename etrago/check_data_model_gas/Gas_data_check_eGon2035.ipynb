{
 "cells": [
  {
   "cell_type": "code",
   "execution_count": null,
   "metadata": {},
   "outputs": [],
   "source": [
    "import numpy as np\n",
    "import pandas as pd\n",
    "from matplotlib import pyplot as plt\n",
    "import matplotlib.patches as mpatches\n",
    "import cartopy.crs as ccrs\n",
    "from etrago import Etrago\n",
    "from etrago import tools\n",
    "from etrago.tools.plot import (\n",
    "    coloring, \n",
    "    make_legend_circles_for, \n",
    "    make_handler_map_to_scale_circles_as_in,\n",
    "    plot_grid,\n",
    "    calc_storage_expansion_per_bus,\n",
    ")\n",
    "\n",
    "colors = coloring"
   ]
  },
  {
   "attachments": {},
   "cell_type": "markdown",
   "metadata": {},
   "source": [
    "Import networks"
   ]
  },
  {
   "cell_type": "code",
   "execution_count": null,
   "metadata": {},
   "outputs": [],
   "source": [
    "# etrago_b = Etrago(csv_folder_name= \"network_raw_beforeAdjustNetwork\")\n",
    "# network_b = etrago_b.network.copy()\n",
    "\n",
    "etrago = Etrago(csv_folder_name= \"network_raw_pfp\")\n",
    "network = etrago.network.copy()\n",
    "\n",
    "# etrago_a = Etrago(csv_folder_name= \"network_aggregated\")\n",
    "# network_a = etrago_a.network.copy()"
   ]
  },
  {
   "cell_type": "code",
   "execution_count": null,
   "metadata": {},
   "outputs": [],
   "source": [
    "print(network)"
   ]
  },
  {
   "attachments": {},
   "cell_type": "markdown",
   "metadata": {},
   "source": [
    "# Buses"
   ]
  },
  {
   "cell_type": "code",
   "execution_count": null,
   "metadata": {},
   "outputs": [],
   "source": [
    "buses_DE = network.buses.loc[network.buses.country == 'DE']\n",
    "buses_abroad = network.buses.loc[network.buses.country != 'DE']"
   ]
  },
  {
   "cell_type": "code",
   "execution_count": null,
   "metadata": {},
   "outputs": [],
   "source": [
    "# print(network.buses.carrier.unique())\n",
    "print(network.buses.carrier.value_counts())"
   ]
  },
  {
   "attachments": {},
   "cell_type": "markdown",
   "metadata": {},
   "source": [
    "## H2 buses"
   ]
  },
  {
   "cell_type": "code",
   "execution_count": null,
   "metadata": {},
   "outputs": [],
   "source": [
    "H2_over_buses = network.buses[(network.buses.carrier == \"H2_grid\")]\n",
    "# H2_over_buses"
   ]
  },
  {
   "cell_type": "code",
   "execution_count": null,
   "metadata": {},
   "outputs": [],
   "source": [
    "H2_under_buses = network.buses[(network.buses.carrier == \"H2_saltcavern\")]\n",
    "# H2_under_buses"
   ]
  },
  {
   "attachments": {},
   "cell_type": "markdown",
   "metadata": {},
   "source": [
    "# Loads"
   ]
  },
  {
   "cell_type": "code",
   "execution_count": null,
   "metadata": {},
   "outputs": [],
   "source": [
    "# print(network.loads.carrier.unique())\n",
    "print(network.loads.carrier.value_counts())"
   ]
  },
  {
   "attachments": {},
   "cell_type": "markdown",
   "metadata": {},
   "source": [
    "## H2 loads"
   ]
  },
  {
   "cell_type": "code",
   "execution_count": null,
   "metadata": {},
   "outputs": [],
   "source": [
    "rel_h2_loads_carriers = ['H2_for_industry', 'H2_hgv_load']\n",
    "# rel_h2_loads_carriers\n"
   ]
  },
  {
   "cell_type": "code",
   "execution_count": null,
   "metadata": {},
   "outputs": [],
   "source": [
    "H2_for_industry_load_DE = network.loads[(network.loads.carrier == 'H2_for_industry') & (network.loads.bus.isin(buses_DE.index))]\n",
    "H2_for_industry_load_DE_t = network.loads_t.p_set[H2_for_industry_load_DE.index.to_list()]\n",
    "\n",
    "print(f\"Total H2_for_industry_load_DE (after adjust_network) {H2_for_industry_load_DE_t.sum(axis=1).sum()/1e6:.2f} TWh\")\n",
    "print(H2_for_industry_load_DE_t.sum(axis=1).sum()/1e6)\n",
    "# H2_for_industry_load_DE\n",
    "# H2_for_industry_load_DE_t"
   ]
  },
  {
   "cell_type": "code",
   "execution_count": null,
   "metadata": {},
   "outputs": [],
   "source": [
    "H2_for_industry_load_abroad = network.loads[(network.loads.carrier == 'H2_for_industry') & network.loads.bus.isin(buses_abroad.index)]\n",
    "H2_for_industry_load_abroad[[\"bus\", \"p_set\"]]\n",
    "# H2_for_industry_load_abroad"
   ]
  },
  {
   "cell_type": "code",
   "execution_count": null,
   "metadata": {},
   "outputs": [],
   "source": [
    "H2_hgv_load = network.loads[network.loads.carrier == 'H2_hgv_load']\n",
    "H2_hgv_load_t = network.loads_t.p_set[H2_hgv_load.index.to_list()]\n",
    "# H2_hgv_load\n",
    "# H2_hgv_load_t"
   ]
  },
  {
   "cell_type": "code",
   "execution_count": null,
   "metadata": {},
   "outputs": [],
   "source": [
    "# Fig resampled\n",
    "\n",
    "fig, ax = plt.subplots(figsize = (10,5))\n",
    "\n",
    "(H2_hgv_load_t.sum(axis=1).resample('20H').mean()/1e3).plot(\n",
    "    ax=ax,\n",
    "    label = \"H2_hgv_load\", \n",
    "    legend=True, \n",
    ")\n",
    "\n",
    "(H2_for_industry_load_DE_t.sum(axis=1).resample('20H').mean()/1e3).plot( #\n",
    "    ax=ax,\n",
    "    label = \"H2_for_industry_load_DE\", \n",
    "    legend=True, \n",
    ")\n",
    "\n",
    "# (H2_for_industry_load_abroad/1e3).plot(\n",
    "#     ax=ax,\n",
    "#     label = \"H2_for_industry_load_abroad\", \n",
    "#     legend=True, \n",
    "# )\n",
    "\n",
    "ax.set_ylabel('GW')\n",
    "ax.set_title('H2 loads')\n",
    "fig.show()"
   ]
  },
  {
   "cell_type": "code",
   "execution_count": null,
   "metadata": {},
   "outputs": [],
   "source": [
    "# Fig NOT resampled\n",
    "\n",
    "fig, ax = plt.subplots(figsize = (10,5))\n",
    "\n",
    "(H2_hgv_load_t.sum(axis=1)/1e3).plot(\n",
    "    ax=ax,\n",
    "    label = \"H2_hgv_load\", \n",
    "    legend=True, \n",
    ")\n",
    "\n",
    "(H2_for_industry_load_DE_t.sum(axis=1)/1e3).plot(\n",
    "    ax=ax,\n",
    "    label = \"H2_for_industry_load_DE\", \n",
    "    legend=True, \n",
    ")\n",
    "\n",
    "# (H2_for_industry_load_abroad/1e3).plot(\n",
    "#     ax=ax,\n",
    "#     label = \"H2_for_industry_load_abroad\", \n",
    "#     legend=True, \n",
    "# )\n",
    "\n",
    "ax.set_ylabel('GW')\n",
    "ax.set_title('H2 loads')\n",
    "fig.show()"
   ]
  },
  {
   "attachments": {},
   "cell_type": "markdown",
   "metadata": {},
   "source": [
    "## CH4 loads"
   ]
  },
  {
   "cell_type": "code",
   "execution_count": null,
   "metadata": {},
   "outputs": [],
   "source": [
    "rel_ch4_loads_carriers = ['rural_gas_boiler', 'CH4_for_industry', 'CH4']"
   ]
  },
  {
   "cell_type": "code",
   "execution_count": null,
   "metadata": {},
   "outputs": [],
   "source": [
    "rural_gas_boiler_load = network.loads[(network.loads.carrier == 'rural_gas_boiler')]\n",
    "rural_gas_boiler_load_t = network.loads_t.p_set[rural_gas_boiler_load.index.to_list()]\n",
    "\n",
    "print(f\"Total rural_gas_boiler_load (Germany) {rural_gas_boiler_load_t.sum(axis=1).sum()/1e6:.2f} TWh\")\n",
    "# rural_gas_boiler_load\n",
    "# rural_gas_boiler_load_t"
   ]
  },
  {
   "cell_type": "code",
   "execution_count": null,
   "metadata": {},
   "outputs": [],
   "source": [
    "CH4_for_industry_load_DE = network.loads[(network.loads.carrier == 'CH4_for_industry')]\n",
    "CH4_for_industry_load_DE_t = network.loads_t.p_set[CH4_for_industry_load_DE.index.to_list()]\n",
    "\n",
    "print(f\"Total CH4_for_industry_load_DE (after adjust_network): {CH4_for_industry_load_DE_t.sum(axis=1).sum()/1e6:.2f} TWh\")\n",
    "# CH4_for_industry_load_DE\n",
    "# CH4_for_industry_load_DE_t"
   ]
  },
  {
   "cell_type": "code",
   "execution_count": null,
   "metadata": {},
   "outputs": [],
   "source": [
    "CH4_abroad_load = network.loads[(network.loads.carrier == 'CH4')]\n",
    "CH4_abroad_load_t = network.loads_t.p_set[CH4_abroad_load.index.to_list()]\n",
    "\n",
    "print(CH4_abroad_load_t.sum())\n",
    "# CH4_abroad_load\n",
    "# CH4_abroad_load_t"
   ]
  },
  {
   "cell_type": "code",
   "execution_count": null,
   "metadata": {},
   "outputs": [],
   "source": [
    "CH4_abroad_load_t_corrected = network.loads_t.p_set[CH4_abroad_load.index.to_list()] *8760\n",
    "\n",
    "print(CH4_abroad_load_t_corrected.sum())\n",
    "# CH4_abroad_load\n",
    "# CH4_abroad_load_t"
   ]
  },
  {
   "cell_type": "code",
   "execution_count": null,
   "metadata": {},
   "outputs": [],
   "source": [
    "fig, ax = plt.subplots(figsize = (10,5))\n",
    "\n",
    "(rural_gas_boiler_load_t.sum(axis=1).resample('20H').mean()/1e3).plot(\n",
    "    ax=ax,\n",
    "    label = \"rural_gas_boiler_load_t\", \n",
    "    legend=True, \n",
    ")\n",
    "\n",
    "(CH4_for_industry_load_DE_t.sum(axis=1).resample('20H').mean()/1e3).plot( #\n",
    "    ax=ax,\n",
    "    label = \"CH4_for_industry_load_DE\", \n",
    "    legend=True, \n",
    ")\n",
    "\n",
    "(CH4_abroad_load_t.sum(axis=1).resample('20H').mean()/1e3).plot( #\n",
    "    ax=ax,\n",
    "    label = \"CH4_abroad_load\", \n",
    "    legend=True, \n",
    ")\n",
    "\n",
    "(CH4_abroad_load_t_corrected.sum(axis=1).resample('20H').mean()/1e3).plot( #\n",
    "    ax=ax,\n",
    "    label = \"CH4_abroad_load_corrected\", \n",
    "    legend=True, \n",
    ")\n",
    "\n",
    "ax.set_ylabel('GW')\n",
    "ax.set_title('CH4 loads')\n",
    "fig.show()"
   ]
  },
  {
   "attachments": {},
   "cell_type": "markdown",
   "metadata": {},
   "source": [
    "# Stores"
   ]
  },
  {
   "cell_type": "code",
   "execution_count": null,
   "metadata": {},
   "outputs": [],
   "source": [
    "# print(network.stores.carrier.unique())\n",
    "print(network.stores.carrier.value_counts())"
   ]
  },
  {
   "attachments": {},
   "cell_type": "markdown",
   "metadata": {},
   "source": [
    "## H2 underground stores"
   ]
  },
  {
   "cell_type": "code",
   "execution_count": null,
   "metadata": {},
   "outputs": [],
   "source": [
    "H2_underground_stores = network.stores[(network.stores.carrier == \"H2_underground\")]\n",
    "# H2_underground_stores"
   ]
  },
  {
   "cell_type": "code",
   "execution_count": null,
   "metadata": {},
   "outputs": [],
   "source": [
    "H2_saltcavern_potential =  H2_underground_stores.e_nom_max.sum()\n",
    "\n",
    "print(f'H2_underground total storage capacity potential: {H2_saltcavern_potential/1e3:.2f} GWh')"
   ]
  },
  {
   "cell_type": "code",
   "execution_count": null,
   "metadata": {},
   "outputs": [],
   "source": [
    "h2_saltcavern_store_cap =  H2_underground_stores.set_index(\"bus\")[\"e_nom_max\"]\n",
    "\n",
    "network_f = network.copy()\n",
    "network_f.buses = network_f.buses[(network_f.buses.carrier.isin([\"H2_saltcavern\", \"H2_grid\"]))]\n",
    "\n",
    "scaling = 1/1e3\n",
    "bus_unit = \"GWh\"\n",
    "\n",
    "bus_scaling = 1/6e3\n",
    "bus_sizes = h2_saltcavern_store_cap * scaling\n",
    "\n",
    "\n",
    "handles = make_legend_circles_for([\n",
    "        # bus_sizes.min()*bus_scaling, \n",
    "        bus_sizes.max()*bus_scaling\n",
    "    ], \n",
    "    scale=1, \n",
    "    facecolor=colors()[\"H2_underground\"]\n",
    ")\n",
    "\n",
    "labels = [#\"min\", \"max\"]\n",
    "    (\"{} \" + bus_unit).format(s)\n",
    "    for s in (\n",
    "        # round(bus_sizes.min()),\n",
    "        round(bus_sizes.max()),\n",
    "    )\n",
    "]\n",
    "\n",
    "fig, ax = plt.subplots(subplot_kw={\"projection\":ccrs.PlateCarree()})#, figsize=(12,8)\n",
    "network_f.plot(\n",
    "    bus_sizes=bus_sizes*bus_scaling,\n",
    "    margin=0.1,\n",
    "    ax=ax,\n",
    "    bus_colors=colors()[\"H2_underground\"],\n",
    ")\n",
    "l2 = ax.legend(\n",
    "    handles,\n",
    "    labels,\n",
    "    loc='lower left',\n",
    "    # bbox_to_anchor=(0.01, 1.01),\n",
    "    labelspacing=1.0,\n",
    "    framealpha=1.0,\n",
    "    # title=bus_legend,\n",
    "    handler_map=make_handler_map_to_scale_circles_as_in(ax),\n",
    ")\n",
    "ax.add_artist(l2)\n",
    "\n",
    "ax.set_title(\"H2 saltcavern storage potentials for eGon2035\")\n",
    "fig.show()"
   ]
  },
  {
   "attachments": {},
   "cell_type": "markdown",
   "metadata": {},
   "source": [
    "## CH4 stores"
   ]
  },
  {
   "cell_type": "code",
   "execution_count": null,
   "metadata": {},
   "outputs": [],
   "source": [
    "CH4_stores = network.stores[(network.stores.carrier == \"CH4\")]\n",
    "# CH4_stores"
   ]
  },
  {
   "cell_type": "code",
   "execution_count": null,
   "metadata": {},
   "outputs": [],
   "source": [
    "CH4_stores_DE = network.stores[(network.stores.carrier == \"CH4\") & (network.stores.bus.isin(buses_DE.index))]\n",
    "# CH4_stores_DE"
   ]
  },
  {
   "cell_type": "code",
   "execution_count": null,
   "metadata": {},
   "outputs": [],
   "source": [
    "CH4_stores_cap_DE =  CH4_stores_DE.e_nom.sum()\n",
    "\n",
    "print(f'CH4 total storage capacity in Germany: {CH4_stores_cap_DE/1e6:.2f} TWh')"
   ]
  },
  {
   "cell_type": "code",
   "execution_count": null,
   "metadata": {},
   "outputs": [],
   "source": [
    "ch4_store_cap = CH4_stores_DE.set_index(\"bus\")[\"e_nom\"]\n",
    "\n",
    "unit_scaling = 1/1e6\n",
    "bus_unit = \"TWh\"\n",
    "\n",
    "bus_scaling = 1/2e2\n",
    "bus_sizes = ch4_store_cap * unit_scaling\n",
    "\n",
    "\n",
    "handles = make_legend_circles_for([\n",
    "        # bus_sizes.min()*bus_scaling, \n",
    "        bus_sizes.max()*bus_scaling\n",
    "    ], \n",
    "    scale=1, \n",
    "    facecolor=\"blue\",\n",
    ")\n",
    "\n",
    "labels = [#\"min\", \"max\"]\n",
    "    (\"{} \" + bus_unit).format(s)\n",
    "    for s in (\n",
    "        # round(bus_sizes.min()),\n",
    "        round(bus_sizes.max()),\n",
    "    )\n",
    "]\n",
    "\n",
    "network_f = network.copy()\n",
    "network_f.buses = network_f.buses[\n",
    "    (network_f.buses.carrier == \"CH4\")\n",
    "    & (network_f.buses.index.isin(buses_DE.index))\n",
    "]\n",
    "\n",
    "fig, ax = plt.subplots(subplot_kw={\"projection\":ccrs.PlateCarree()})\n",
    "network_f.plot(\n",
    "    bus_sizes=bus_sizes * bus_scaling,\n",
    "    bus_colors=\"blue\",\n",
    "    line_widths=0,\n",
    "    link_widths=0,\n",
    "    margin=0.1,\n",
    "    ax=ax,\n",
    "    title=\"CH4 stores\",\n",
    ")\n",
    "l2 = ax.legend(\n",
    "    handles,\n",
    "    labels,\n",
    "    loc='lower left',\n",
    "    # bbox_to_anchor=(0.01, 1.01),\n",
    "    labelspacing=1.0,\n",
    "    framealpha=1.0,\n",
    "    # title=bus_legend,\n",
    "    handler_map=make_handler_map_to_scale_circles_as_in(ax),\n",
    ")\n",
    "ax.add_artist(l2)\n",
    "\n",
    "\n",
    "fig.show()"
   ]
  },
  {
   "cell_type": "code",
   "execution_count": null,
   "metadata": {},
   "outputs": [],
   "source": [
    "ch4_store_cap = CH4_stores.set_index(\"bus\")[\"e_nom\"]\n",
    "\n",
    "unit_scaling = 1/1e6\n",
    "bus_unit = \"TWh\"\n",
    "\n",
    "bus_scaling = 1/1e2\n",
    "bus_sizes = ch4_store_cap * unit_scaling\n",
    "\n",
    "\n",
    "handles = make_legend_circles_for([\n",
    "        # bus_sizes.min()*bus_scaling, \n",
    "        bus_sizes.max()*bus_scaling\n",
    "    ], \n",
    "    scale=1, \n",
    "    facecolor=\"blue\",\n",
    ")\n",
    "\n",
    "labels = [#\"min\", \"max\"]\n",
    "    (\"{} \" + bus_unit).format(s)\n",
    "    for s in (\n",
    "        # round(bus_sizes.min()),\n",
    "        round(bus_sizes.max()),\n",
    "    )\n",
    "]\n",
    "\n",
    "network_f = network.copy()\n",
    "network_f.buses = network_f.buses[\n",
    "    (network_f.buses.carrier == \"CH4\")\n",
    "    & (network_f.buses.country != \"RU\")\n",
    "]\n",
    "\n",
    "fig, ax = plt.subplots(subplot_kw={\"projection\":ccrs.PlateCarree()})\n",
    "network_f.plot(\n",
    "    bus_sizes=bus_sizes * bus_scaling,\n",
    "    bus_colors=\"blue\",\n",
    "    line_widths=0,\n",
    "    link_widths=0,\n",
    "    margin=0.1,\n",
    "    ax=ax,\n",
    "    title=\"CH4 stores\",\n",
    ")\n",
    "l2 = ax.legend(\n",
    "    handles,\n",
    "    labels,\n",
    "    loc='lower left',\n",
    "    # bbox_to_anchor=(0.01, 1.01),\n",
    "    labelspacing=1.0,\n",
    "    framealpha=1.0,\n",
    "    # title=bus_legend,\n",
    "    handler_map=make_handler_map_to_scale_circles_as_in(ax),\n",
    ")\n",
    "ax.add_artist(l2)\n",
    "\n",
    "fig.show()"
   ]
  },
  {
   "cell_type": "code",
   "execution_count": null,
   "metadata": {},
   "outputs": [],
   "source": [
    "CH4_stores_a = network.stores[(network.stores.carrier == \"CH4\") & (network.stores.bus.isin(buses_abroad.index))]\n",
    "print(buses_abroad[buses_abroad.carrier ==\"CH4\"][\"country\"])\n",
    "CH4_stores_a.set_index(\"bus\")[\"e_nom\"]/1e6"
   ]
  },
  {
   "attachments": {},
   "cell_type": "markdown",
   "metadata": {},
   "source": [
    "# Generators (CH4)"
   ]
  },
  {
   "cell_type": "code",
   "execution_count": null,
   "metadata": {},
   "outputs": [],
   "source": [
    "# print(network.generators.carrier.unique())\n",
    "print(network.generators.carrier.value_counts())"
   ]
  },
  {
   "cell_type": "code",
   "execution_count": null,
   "metadata": {},
   "outputs": [],
   "source": [
    "ch4_carriers = ['CH4', 'CH4_NG', 'CH4_biogas']\n",
    "ch4_carriers_DE = ['CH4_NG', 'CH4_biogas']\n",
    "\n",
    "ch4_gen = network.generators[(network.generators.carrier.isin(ch4_carriers))]\n",
    "ch4_gen_DE = network.generators[(network.generators.carrier.isin(ch4_carriers_DE))]"
   ]
  },
  {
   "cell_type": "code",
   "execution_count": null,
   "metadata": {},
   "outputs": [],
   "source": [
    "ch4_gen_abroad = network.generators[(network.generators.carrier == \"CH4\")]\n",
    "print(buses_abroad[buses_abroad.carrier ==\"CH4\"][\"country\"])\n",
    "# print(ch4_gen_abroad[[\"bus\",\"p_nom\"]])\n",
    "print(ch4_gen_abroad.set_index(\"bus\")[\"e_nom_max\"]/1e6)\n",
    "# ch4_gen_abroad"
   ]
  },
  {
   "cell_type": "code",
   "execution_count": null,
   "metadata": {},
   "outputs": [],
   "source": [
    "ch4_gen_biogas = network.generators[(network.generators.carrier == \"CH4_biogas\")]\n",
    "\n",
    "print(f'Total biogas production capacity in Germany: {ch4_gen_biogas[\"p_nom\"].sum()/1e3:.2f} GW')\n",
    "# ch4_gen_biogas"
   ]
  },
  {
   "cell_type": "code",
   "execution_count": null,
   "metadata": {},
   "outputs": [],
   "source": [
    "ch4_gen_NG = network.generators[(network.generators.carrier == \"CH4_NG\")]\n",
    "\n",
    "print(f'Total natural gas production capacity in Germany: {ch4_gen_NG[\"p_nom\"].sum()/1e3:.2f} GW')\n",
    "# ch4_gen_NG"
   ]
  },
  {
   "attachments": {},
   "cell_type": "markdown",
   "metadata": {},
   "source": [
    "# Links"
   ]
  },
  {
   "cell_type": "code",
   "execution_count": null,
   "metadata": {},
   "outputs": [],
   "source": [
    "# print(network.links.carrier.unique())\n",
    "print(network.links.carrier.value_counts())"
   ]
  },
  {
   "attachments": {},
   "cell_type": "markdown",
   "metadata": {},
   "source": [
    "## CH4 Links"
   ]
  },
  {
   "cell_type": "code",
   "execution_count": null,
   "metadata": {},
   "outputs": [],
   "source": [
    "rel_ch4_links_carriers = network.links.loc[network.links.bus0.isin(network.buses.loc[network.buses.carrier == 'CH4'].index)].carrier.unique()\n",
    "rel_ch4_links_carriers"
   ]
  },
  {
   "attachments": {},
   "cell_type": "markdown",
   "metadata": {},
   "source": [
    "### CH4 grid"
   ]
  },
  {
   "cell_type": "code",
   "execution_count": null,
   "metadata": {},
   "outputs": [],
   "source": [
    "CH4_pipelines = network.links[network.links.carrier == \"CH4\"]\n",
    "# CH4_pipelines"
   ]
  },
  {
   "attachments": {},
   "cell_type": "markdown",
   "metadata": {},
   "source": [
    "### Gas turbines (OCGT)"
   ]
  },
  {
   "cell_type": "code",
   "execution_count": null,
   "metadata": {},
   "outputs": [],
   "source": [
    "gas_turbines = network.links[network.links.carrier == \"OCGT\"]\n",
    "gas_turbines_DE = gas_turbines[gas_turbines.country == \"DE\"]\n",
    "# gas_turbines_DE\n",
    "print(f'Total OCGT capacity (Germany): {gas_turbines_DE[\"p_nom\"].sum()/1e3:.2f} GW')"
   ]
  },
  {
   "cell_type": "code",
   "execution_count": null,
   "metadata": {},
   "outputs": [],
   "source": [
    "gas_turbines_abroad = gas_turbines[gas_turbines.country != \"DE\"]\n",
    "print(gas_turbines_abroad.set_index(\"country\")[\"p_nom\"]*0.42)"
   ]
  },
  {
   "attachments": {},
   "cell_type": "markdown",
   "metadata": {},
   "source": [
    "## H2 links"
   ]
  },
  {
   "cell_type": "code",
   "execution_count": null,
   "metadata": {},
   "outputs": [],
   "source": [
    "rel_h2_links_carriers = network.links.loc[network.links.bus1.isin(network.buses.loc[(network.buses.carrier == 'H2_grid')|(network.buses.carrier == 'H2_salcavern')].index)].carrier.unique()\n",
    "rel_h2_links_carriers"
   ]
  }
 ],
 "metadata": {
  "kernelspec": {
   "display_name": "etrago_envW",
   "language": "python",
   "name": "python3"
  },
  "language_info": {
   "codemirror_mode": {
    "name": "ipython",
    "version": 3
   },
   "file_extension": ".py",
   "mimetype": "text/x-python",
   "name": "python",
   "nbconvert_exporter": "python",
   "pygments_lexer": "ipython3",
   "version": "3.8.15"
  },
  "orig_nbformat": 4,
  "vscode": {
   "interpreter": {
    "hash": "4f9a5dcd043152d5a32898b7099d302d3ef8743d248e4137272a9572a4784fe7"
   }
  }
 },
 "nbformat": 4,
 "nbformat_minor": 2
}
