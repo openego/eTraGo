{
 "cells": [
  {
   "cell_type": "markdown",
   "metadata": {},
   "source": [
    "This Notebook aims to analyse the eTraGo results with a focus on the gas sector"
   ]
  },
  {
   "cell_type": "code",
   "execution_count": null,
   "metadata": {},
   "outputs": [],
   "source": [
    "import numpy as np\n",
    "import pypsa\n",
    "from matplotlib import pyplot as plt\n",
    "# from matplotlib.collections import LineCollection, PatchCollection\n",
    "# from matplotlib.patches import Wedge, Circle\n",
    "# import cartopy.crs as ccrs\n",
    "from etrago.appl import args\n",
    "from etrago import tools\n",
    "from etrago import Etrago\n",
    "import pandas as pd"
   ]
  },
  {
   "cell_type": "code",
   "execution_count": null,
   "metadata": {},
   "outputs": [],
   "source": [
    "etrago = Etrago(csv_folder_name= \"results_files/km_km_90_30_4\")\n",
    "network = etrago.network\n",
    "\n",
    "feedin = network.links[network.links.carrier == 'H2_feedin'].p_nom.sum()\n",
    "ch4 = network.links[network.links.carrier == 'CH4'].p_nom.sum()\n",
    "r = (feedin/ch4)*100\n",
    "\n",
    "print(f'p_nom H2_feedin: {feedin}')\n",
    "print(f'p_nom CH4: {ch4}')\n",
    "print(f'ratio (in %): {r}')\n"
   ]
  },
  {
   "cell_type": "code",
   "execution_count": null,
   "metadata": {},
   "outputs": [],
   "source": [
    "store_carrier_list = ['H2_underground', 'H2_overground']\n",
    "storage_carrier_list = []\n",
    "link_carrier_list = ['CH4']\n",
    "bus_carrier_list = ['CH4', 'H2_grid', 'H2_saltcavern']\n",
    "\n",
    "bus_colors = tools.plot.coloring()\n",
    "bus_scaling = 0.000005\n",
    "\n",
    "etrago = Etrago(csv_folder_name= \"results_files/results-300ac-50-gas\")\n",
    "network = etrago.network\n",
    "network.buses = network.buses[\n",
    "    (network.buses.country == 'DE') & \n",
    "    (network.buses.carrier.isin(bus_carrier_list))\n",
    "]\n",
    "\n",
    "network.stores = network.stores[network.stores.carrier.isin(store_carrier_list)]\n",
    "network.storage_units = network.storage_units[network.storage_units.carrier.isin(storage_carrier_list)]\n",
    "network.links = network.links[network.links.carrier.isin(link_carrier_list)]\n",
    "\n",
    "bus_sizes = bus_scaling * tools.plot.calc_storage_expansion_per_bus(network)\n",
    "\n",
    "bus_colors.update(H2_underground='blue')\n",
    "bus_collection, line_collection1, line_collection2 = network.plot(\n",
    "    bus_sizes = bus_sizes,\n",
    "    bus_colors = bus_colors\n",
    ")"
   ]
  },
  {
   "cell_type": "code",
   "execution_count": null,
   "metadata": {},
   "outputs": [],
   "source": [
    "store_carrier_list = ['H2_underground', 'H2_overground']\n",
    "storage_carrier_list = []\n",
    "link_carrier_list = ['CH4']\n",
    "bus_carrier_list = ['CH4', 'H2_grid', 'H2_saltcavern']\n",
    "\n",
    "bus_colors = tools.plot.coloring()\n",
    "bus_scaling = 0.00005\n",
    "\n",
    "etrago = Etrago(csv_folder_name= \"results_files/results_300ac_42gas_fullyear_1iteration\")\n",
    "network = etrago.network\n",
    "network.buses = network.buses[\n",
    "    (network.buses.country == 'DE') & \n",
    "    (network.buses.carrier.isin(bus_carrier_list))\n",
    "]\n",
    "\n",
    "network.stores = network.stores[network.stores.carrier.isin(store_carrier_list)]\n",
    "network.storage_units = network.storage_units[network.storage_units.carrier.isin(storage_carrier_list)]\n",
    "network.links = network.links[network.links.carrier.isin(link_carrier_list)]\n",
    "\n",
    "bus_sizes = bus_scaling * tools.plot.calc_storage_expansion_per_bus(network)\n",
    "\n",
    "bus_colors.update(H2_underground='blue')\n",
    "bus_collection, line_collection1, line_collection2 = network.plot(\n",
    "    bus_sizes = bus_sizes,\n",
    "    bus_colors = bus_colors\n",
    ")"
   ]
  },
  {
   "cell_type": "code",
   "execution_count": null,
   "metadata": {},
   "outputs": [],
   "source": [
    "store_carrier_list = ['CH4', 'H2_underground', 'H2_overground']\n",
    "storage_carrier_list = []\n",
    "link_carrier_list = ['CH4']\n",
    "bus_carrier_list = ['CH4', 'H2_grid', 'H2_saltcavern']\n",
    "\n",
    "bus_colors = tools.plot.coloring()\n",
    "bus_colors.update(H2_underground='blue')\n",
    "\n",
    "def plot_H2_storages(nAC, nCH4, bus_scaling = 0.00005):\n",
    "\n",
    "    etrago = Etrago(csv_folder_name= \"results_files/km_km_\" + str(nAC) + \"_\" + str(nCH4) + \"_4\")\n",
    "        \n",
    "    etrago.network.buses = etrago.network.buses[\n",
    "        (etrago.network.buses.country == 'DE') & \n",
    "        (etrago.network.buses.carrier.isin(bus_carrier_list))]\n",
    "    etrago.network.stores = etrago.network.stores[etrago.network.stores.carrier.isin(store_carrier_list)]\n",
    "    etrago.network.storage_units = etrago.network.storage_units[etrago.network.storage_units.carrier.isin(storage_carrier_list)]\n",
    "    etrago.network.links = etrago.network.links[etrago.network.links.carrier.isin(link_carrier_list)]\n",
    "\n",
    "    bus_sizes = bus_scaling * tools.plot.calc_storage_expansion_per_bus(etrago.network)\n",
    "    \n",
    "    dies = plt.subplots(figsize=(12, 6)) \n",
    "\n",
    "    dies, und, das = etrago.network.plot(\n",
    "        bus_sizes = bus_sizes, \n",
    "        bus_colors = bus_colors\n",
    "    )\n",
    "\n",
    "    plt.show()\n"
   ]
  },
  {
   "cell_type": "code",
   "execution_count": null,
   "metadata": {},
   "outputs": [],
   "source": [
    "nAC_list = [60, 90, 120, 150] #15, 20, 30, \n",
    "for i in nAC_list:\n",
    "    plot_H2_storages(i, 30)"
   ]
  },
  {
   "cell_type": "code",
   "execution_count": null,
   "metadata": {},
   "outputs": [],
   "source": [
    "nCH4_list = [30, 60, 90, 120, 150, 200, 250, 300]\n",
    "for i in nCH4_list:\n",
    "    plot_H2_storages(60, i, bus_scaling = 0.00001)"
   ]
  },
  {
   "cell_type": "code",
   "execution_count": null,
   "metadata": {},
   "outputs": [],
   "source": [
    "etrago = Etrago(csv_folder_name= \"results_files/km_km_90_30_4\")\n",
    "fig, ax = plt.subplots(figsize=(12, 6))\n",
    "\n",
    "# p_CH4_store = etrago.network.stores_t.p[[col for col in etrago.network.stores_t.p.columns if 'CH4' in col]]\n",
    "# p_CH4_store_total = p_CH4_store.sum(axis=1)\n",
    "# p_CH4_store_total.plot(label=\"CH4 store dispatch\", ax=ax, linewidth=3)\n",
    "\n",
    "p_H2_o_store = etrago.network.stores_t.p[[col for col in etrago.network.stores_t.p.columns if 'H2_overground' in col]]\n",
    "p_H2_o_store_total = p_H2_o_store.sum(axis=1)\n",
    "p_H2_o_store_total.plot(label=\"H2 overground store dispatch\", ax=ax, linewidth=3)\n",
    "\n",
    "p_H2_u_store = etrago.network.stores_t.p[[col for col in etrago.network.stores_t.p.columns if 'H2_underground' in col]]\n",
    "p_H2_u_store_total = p_H2_u_store.sum(axis=1)\n",
    "p_H2_u_store_total.plot(label=\"H2 underground store dispatch\", ax=ax, linewidth=3)\n",
    "\n",
    "ax.legend()\n",
    "ax.grid()\n",
    "ax.set_ylabel(\"MWh\")\n",
    "ax.set_xlabel(\"\")\n",
    "fig.tight_layout()"
   ]
  }
 ],
 "metadata": {
  "kernelspec": {
   "display_name": "Python 3.7.10 ('etrago_env')",
   "language": "python",
   "name": "python3"
  },
  "language_info": {
   "codemirror_mode": {
    "name": "ipython",
    "version": 3
   },
   "file_extension": ".py",
   "mimetype": "text/x-python",
   "name": "python",
   "nbconvert_exporter": "python",
   "pygments_lexer": "ipython3",
   "version": "3.7.10"
  },
  "orig_nbformat": 4,
  "vscode": {
   "interpreter": {
    "hash": "e6007a9423da2d1cd955f9cff8455e70c2c460802b90b94248eb50cb3b98d969"
   }
  }
 },
 "nbformat": 4,
 "nbformat_minor": 2
}
